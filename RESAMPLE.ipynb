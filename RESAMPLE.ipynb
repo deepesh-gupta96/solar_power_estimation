{
 "cells": [
  {
   "cell_type": "code",
   "execution_count": 68,
   "metadata": {},
   "outputs": [],
   "source": [
    "from pandas import read_csv\n",
    "import pandas as pd\n",
    "from pandas import datetime\n",
    "from datetime import datetime\n",
    "from matplotlib import pyplot"
   ]
  },
  {
   "cell_type": "markdown",
   "metadata": {},
   "source": [
    "## Data Reading"
   ]
  },
  {
   "cell_type": "code",
   "execution_count": 69,
   "metadata": {},
   "outputs": [],
   "source": [
    "series_SF = pd.read_csv(\"../Dataset/Final/724940_2006_solar_SF.csv\")\n",
    "series_LA = pd.read_csv(\"../Dataset/Final/722874_2006_solar_LA.csv\")\n",
    "series_SM = pd.read_csv(\"../Dataset/Final/724830_2006_solar_Sacremento.csv\")\n",
    "series_MD = pd.read_csv(\"../Dataset/Final/745046_2006_solar_Madera.csv\")\n",
    "series_PS = pd.read_csv(\"../Dataset/Final/747187_2006_solar_Palam_Spring.csv\")\n",
    "df_SF = pd.DataFrame(series_SF, index = [\"HH:MM (LST)\"])\n",
    "df_LA = pd.DataFrame(series_LA, index = [\"HH:MM (LST)\"])\n",
    "df_SM = pd.DataFrame(series_SM, index = [\"HH:MM (LST)\"])\n",
    "df_MD = pd.DataFrame(series_MD, index = [\"HH:MM (LST)\"])\n",
    "df_PS = pd.DataFrame(series_PS, index = [\"HH:MM (LST)\"])"
   ]
  },
  {
   "cell_type": "code",
   "execution_count": 70,
   "metadata": {},
   "outputs": [],
   "source": [
    "series_SF[\"HH:MM (LST)\"] = pd.to_datetime(series_SF['YYYY-MM-DD']+ \" \" + series_SF[\"HH:MM (LST)\"])\n",
    "series_LA[\"HH:MM (LST)\"] = pd.to_datetime(series_LA['YYYY-MM-DD']+ \" \" + series_LA[\"HH:MM (LST)\"])\n",
    "series_SM[\"HH:MM (LST)\"] = pd.to_datetime(series_SM['YYYY-MM-DD']+ \" \" + series_SM[\"HH:MM (LST)\"])\n",
    "series_MD[\"HH:MM (LST)\"] = pd.to_datetime(series_MD['YYYY-MM-DD']+ \" \" + series_MD[\"HH:MM (LST)\"])\n",
    "series_PS[\"HH:MM (LST)\"] = pd.to_datetime(series_PS['YYYY-MM-DD']+ \" \" + series_PS[\"HH:MM (LST)\"])"
   ]
  },
  {
   "cell_type": "code",
   "execution_count": 71,
   "metadata": {},
   "outputs": [],
   "source": [
    "series_SF = series_SF.drop('YYYY-MM-DD', axis= 1)\n",
    "series_LA = series_LA.drop('YYYY-MM-DD', axis= 1)\n",
    "series_SM = series_SM.drop('YYYY-MM-DD', axis= 1)\n",
    "series_MD = series_MD.drop('YYYY-MM-DD', axis= 1)\n",
    "series_PS = series_PS.drop('YYYY-MM-DD', axis= 1)"
   ]
  },
  {
   "cell_type": "markdown",
   "metadata": {},
   "source": [
    "### Resample For SF"
   ]
  },
  {
   "cell_type": "code",
   "execution_count": 72,
   "metadata": {},
   "outputs": [],
   "source": [
    "series_SF_index = series_SF.set_index('HH:MM (LST)', inplace= True)\n",
    "series_SF_re = series_SF.resample('5Min').mean()"
   ]
  },
  {
   "cell_type": "code",
   "execution_count": 73,
   "metadata": {},
   "outputs": [],
   "source": [
    "interpolated_SF = series_SF_re.interpolate(method = 'linear')"
   ]
  },
  {
   "cell_type": "code",
   "execution_count": 74,
   "metadata": {},
   "outputs": [],
   "source": [
    "interpolated_SF.to_csv(\"../Dataset/Resample/Resample_SF_new.csv\")"
   ]
  },
  {
   "cell_type": "markdown",
   "metadata": {},
   "source": [
    "### Resample For LA"
   ]
  },
  {
   "cell_type": "code",
   "execution_count": 75,
   "metadata": {},
   "outputs": [],
   "source": [
    "series_LA_index = series_LA.set_index('HH:MM (LST)', inplace= True)\n",
    "series_LA_re = series_LA.resample('5Min').mean()"
   ]
  },
  {
   "cell_type": "code",
   "execution_count": 76,
   "metadata": {},
   "outputs": [],
   "source": [
    "interpolated_LA = series_LA_re.interpolate(method = 'linear')"
   ]
  },
  {
   "cell_type": "code",
   "execution_count": 77,
   "metadata": {},
   "outputs": [],
   "source": [
    "interpolated_LA.to_csv(\"../Dataset/Resample/Resample_LA_new.csv\")"
   ]
  },
  {
   "cell_type": "markdown",
   "metadata": {},
   "source": [
    "### Resample For SM"
   ]
  },
  {
   "cell_type": "code",
   "execution_count": 78,
   "metadata": {},
   "outputs": [],
   "source": [
    "series_SM_index = series_SM.set_index('HH:MM (LST)', inplace= True)\n",
    "series_SM_re = series_SM.resample('5Min').mean()"
   ]
  },
  {
   "cell_type": "code",
   "execution_count": 79,
   "metadata": {},
   "outputs": [],
   "source": [
    "interpolated_SM = series_SM_re.interpolate(method = \"linear\")"
   ]
  },
  {
   "cell_type": "code",
   "execution_count": 80,
   "metadata": {},
   "outputs": [],
   "source": [
    "interpolated_SM.to_csv(\"../Dataset/Resample/Resample_SM_new.csv\")"
   ]
  },
  {
   "cell_type": "markdown",
   "metadata": {},
   "source": [
    "### Resample For MD"
   ]
  },
  {
   "cell_type": "code",
   "execution_count": 81,
   "metadata": {},
   "outputs": [],
   "source": [
    "series_MD_index = series_MD.set_index('HH:MM (LST)', inplace= True)\n",
    "series_MD_re = series_MD.resample('5Min').mean()"
   ]
  },
  {
   "cell_type": "code",
   "execution_count": 82,
   "metadata": {},
   "outputs": [],
   "source": [
    "interpolated_MD = series_MD_re.interpolate(method = \"linear\")"
   ]
  },
  {
   "cell_type": "code",
   "execution_count": 83,
   "metadata": {},
   "outputs": [],
   "source": [
    "interpolated_MD.to_csv(\"../Dataset/Resample/Resample_MD_new.csv\")"
   ]
  },
  {
   "cell_type": "markdown",
   "metadata": {},
   "source": [
    "### Resample for PS "
   ]
  },
  {
   "cell_type": "code",
   "execution_count": 84,
   "metadata": {},
   "outputs": [],
   "source": [
    "series_PS_index = series_PS.set_index('HH:MM (LST)', inplace= True)\n",
    "series_PS_re = series_PS.resample('5Min').mean()"
   ]
  },
  {
   "cell_type": "code",
   "execution_count": 85,
   "metadata": {},
   "outputs": [],
   "source": [
    "interpolated_PS = series_PS_re.interpolate(method = \"linear\")"
   ]
  },
  {
   "cell_type": "code",
   "execution_count": 86,
   "metadata": {},
   "outputs": [],
   "source": [
    "interpolated_PS.to_csv(\"../Dataset/Resample/Resample_PS_new.csv\")"
   ]
  }
 ],
 "metadata": {
  "kernelspec": {
   "display_name": "Python 3",
   "language": "python",
   "name": "python3"
  },
  "language_info": {
   "codemirror_mode": {
    "name": "ipython",
    "version": 3
   },
   "file_extension": ".py",
   "mimetype": "text/x-python",
   "name": "python",
   "nbconvert_exporter": "python",
   "pygments_lexer": "ipython3",
   "version": "3.7.2"
  }
 },
 "nbformat": 4,
 "nbformat_minor": 2
}
